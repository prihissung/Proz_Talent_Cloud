{
  "nbformat": 4,
  "nbformat_minor": 0,
  "metadata": {
    "colab": {
      "provenance": [],
      "authorship_tag": "ABX9TyOIocSN4L15I8c3uB19a2y8",
      "include_colab_link": true
    },
    "kernelspec": {
      "name": "python3",
      "display_name": "Python 3"
    },
    "language_info": {
      "name": "python"
    }
  },
  "cells": [
    {
      "cell_type": "markdown",
      "metadata": {
        "id": "view-in-github",
        "colab_type": "text"
      },
      "source": [
        "<a href=\"https://colab.research.google.com/github/prihissung/Proz_Talent_Cloud/blob/main/Aula_10_Exercicio_Revisao.ipynb\" target=\"_parent\"><img src=\"https://colab.research.google.com/assets/colab-badge.svg\" alt=\"Open In Colab\"/></a>"
      ]
    },
    {
      "cell_type": "code",
      "execution_count": null,
      "metadata": {
        "id": "z9fkWGqS-hkJ"
      },
      "outputs": [],
      "source": []
    },
    {
      "cell_type": "markdown",
      "source": [
        "Jokenpô"
      ],
      "metadata": {
        "id": "COxufkIM_On0"
      }
    },
    {
      "cell_type": "code",
      "source": [
        "import random\n",
        "\n",
        "def computador():\n",
        "    opcoes = ['pedra', 'papel', 'tesoura']\n",
        "    return random.choice(opcoes)\n",
        "\n",
        "\n",
        "def jogador():\n",
        "   while True:\n",
        "    jogador = input('Escolha: Pedra, Papel ou Tesoura: ').lower()\n",
        "    if jogador in [ 'pedra', 'papel', 'tesoura' ]:\n",
        "      return jogador\n",
        "    else:\n",
        "      print('Escolha inválida')\n",
        "\n",
        "\n",
        "def regras(computador, jogador):\n",
        "    if computador == jogador:\n",
        "     return 'Empate!'\n",
        "    elif ((computador == 'pedra' and jogador == 'tesoura') or\n",
        "       (computador == 'papel' and jogador == 'pedra') or\n",
        "       (computador == 'tesoura' and jogador == 'papel')):\n",
        "       return 'Você venceu!'\n",
        "    else:\n",
        "      return 'Você perdeu!'\n",
        "\n",
        "vitoria_jogador =0;\n",
        "vitoria_computador =0;\n",
        "\n",
        "for i in range(2):\n",
        "  c = computador()\n",
        "  j = jogador()\n",
        "  resultado = regras(c, j)\n",
        "\n",
        "  if resultado == 'Você venceu!':\n",
        "    vitoria_jogador += 1\n",
        "  else:\n",
        "\n",
        "  #elif resultado == 'Você perdeu!':\n",
        "    vitoria_computador += 1\n",
        "    #print(resultado)\n",
        "  #else:\n",
        "    #print(resultado)\n",
        "    #\n",
        "    #\n",
        "\n",
        "\n",
        "#Testes\n",
        "print('\\n' + regras(computador(), jogador()))\n",
        "print('\\n' + f'Jogador: {vitoria_jogador}', f' X  Computador: {vitoria_computador}')\n",
        "#print(f'Vitorias do computador: {vitoria_computador}')\n",
        "\n",
        "\n",
        "\n",
        "\n"
      ],
      "metadata": {
        "colab": {
          "base_uri": "https://localhost:8080/"
        },
        "id": "aXPx6rKf_1gM",
        "outputId": "28797212-7617-419e-f820-ccfbd56afaf7"
      },
      "execution_count": 20,
      "outputs": [
        {
          "output_type": "stream",
          "name": "stdout",
          "text": [
            "Escolha: Pedra, Papel ou Tesoura: Pedra\n",
            "Escolha: Pedra, Papel ou Tesoura: Papel\n",
            "Escolha: Pedra, Papel ou Tesoura: Tesoura\n",
            "\n",
            "Empate!\n",
            "\n",
            "Jogador: 1  X  Computador: 1\n"
          ]
        }
      ]
    },
    {
      "cell_type": "code",
      "source": [],
      "metadata": {
        "id": "zhZJTo8mCeNy"
      },
      "execution_count": null,
      "outputs": []
    }
  ]
}