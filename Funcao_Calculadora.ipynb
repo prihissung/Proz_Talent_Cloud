{
  "nbformat": 4,
  "nbformat_minor": 0,
  "metadata": {
    "colab": {
      "provenance": [],
      "authorship_tag": "ABX9TyM36mPy9JJOA+en9JkJm3LJ",
      "include_colab_link": true
    },
    "kernelspec": {
      "name": "python3",
      "display_name": "Python 3"
    },
    "language_info": {
      "name": "python"
    }
  },
  "cells": [
    {
      "cell_type": "markdown",
      "metadata": {
        "id": "view-in-github",
        "colab_type": "text"
      },
      "source": [
        "<a href=\"https://colab.research.google.com/github/prihissung/Proz_Talent_Cloud/blob/main/Funcao_Calculadora.ipynb\" target=\"_parent\"><img src=\"https://colab.research.google.com/assets/colab-badge.svg\" alt=\"Open In Colab\"/></a>"
      ]
    },
    {
      "cell_type": "code",
      "execution_count": 2,
      "metadata": {
        "colab": {
          "base_uri": "https://localhost:8080/"
        },
        "id": "nR1sQbJrQdLO",
        "outputId": "4e61da41-9750-48fd-9197-fc6784447123"
      },
      "outputs": [
        {
          "name": "stdout",
          "output_type": "stream",
          "text": [
            "Escolha a operação que deseja realizar: \n",
            "1: Soma\n",
            "2: Subtração\n",
            "3: Multiplicação\n",
            "4: Divisão\n",
            "0: Sair\n",
            "4\n",
            "Digite o primeiro número da operação: \n",
            "100\n",
            "Digite o segundo número da operação: \n",
            "50\n",
            "O resultado da operação é:  2.0\n",
            "Escolha a operação que deseja realizar: \n",
            "1: Soma\n",
            "2: Subtração\n",
            "3: Multiplicação\n",
            "4: Divisão\n",
            "0: Sair\n",
            "0\n"
          ]
        }
      ],
      "source": [
        "def calculadora():\n",
        "    while True:\n",
        "        print(\"Escolha a operação que deseja realizar: \")\n",
        "        print(\"1: Soma\")\n",
        "        print(\"2: Subtração\")\n",
        "        print(\"3: Multiplicação\")\n",
        "        print(\"4: Divisão\")\n",
        "        print(\"0: Sair\")\n",
        "\n",
        "        operacao = int(input())\n",
        "\n",
        "        if operacao == 0:\n",
        "            break\n",
        "\n",
        "        if operacao < 1 or operacao > 4:\n",
        "            print(\"Essa opção não existe.\")\n",
        "            continue\n",
        "\n",
        "        print(\"Digite o primeiro número da operação: \")\n",
        "        num1 = float(input())\n",
        "\n",
        "        print(\"Digite o segundo número da operação: \")\n",
        "        num2 = float(input())\n",
        "\n",
        "        if operacao == 1:\n",
        "            resultado = num1 + num2\n",
        "        elif operacao == 2:\n",
        "            resultado = num1 - num2\n",
        "        elif operacao == 3:\n",
        "            resultado = num1 * num2\n",
        "        elif operacao == 4:\n",
        "            if num2 != 0:\n",
        "                resultado = num1 / num2\n",
        "            else:\n",
        "                print(\"Erro: divisão por zero.\")\n",
        "                continue\n",
        "        else:\n",
        "            print(\"Operação inválida.\")\n",
        "            continue\n",
        "\n",
        "        print(\"O resultado da operação é: \", resultado)\n",
        "\n",
        "calculadora()"
      ]
    }
  ]
}