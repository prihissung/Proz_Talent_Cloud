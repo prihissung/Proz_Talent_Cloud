{
  "nbformat": 4,
  "nbformat_minor": 0,
  "metadata": {
    "colab": {
      "provenance": [],
      "authorship_tag": "ABX9TyP3So06x0p/O5wKXQE/EwVt",
      "include_colab_link": true
    },
    "kernelspec": {
      "name": "python3",
      "display_name": "Python 3"
    },
    "language_info": {
      "name": "python"
    }
  },
  "cells": [
    {
      "cell_type": "markdown",
      "metadata": {
        "id": "view-in-github",
        "colab_type": "text"
      },
      "source": [
        "<a href=\"https://colab.research.google.com/github/prihissung/Proz_Talent_Cloud/blob/main/Untitled2.ipynb\" target=\"_parent\"><img src=\"https://colab.research.google.com/assets/colab-badge.svg\" alt=\"Open In Colab\"/></a>"
      ]
    },
    {
      "cell_type": "code",
      "execution_count": 5,
      "metadata": {
        "colab": {
          "base_uri": "https://localhost:8080/"
        },
        "id": "YMYcqsjH7plK",
        "outputId": "ef2ea500-6726-49b8-81da-30401f8995f2"
      },
      "outputs": [
        {
          "output_type": "stream",
          "name": "stdout",
          "text": [
            "Escolha o número referente à operaçao que deseja realizar:  soma = 1  subtracao = 2  multiplicacao = 3  divisao = 4\n",
            "1\n",
            "Digite o primeiro número da operação: \n",
            "20\n",
            "Digite o segundo número da operação: \n",
            "30\n",
            "O resultado da operação é:  50.0\n"
          ]
        }
      ],
      "source": [
        "def calculadora():\n",
        "    soma = 1\n",
        "    subtracao = 2\n",
        "    multiplicacao = 3\n",
        "    divisao = 4\n",
        "\n",
        "    print(\"Escolha o número referente à operaçao que deseja realizar: \",\n",
        "          \"soma = 1 \", \"subtracao = 2 \", \"multiplicacao = 3 \", \"divisao = 4\")\n",
        "    operacao = int(input())\n",
        "\n",
        "    print(\"Digite o primeiro número da operação: \")\n",
        "    num1 = float(input())\n",
        "\n",
        "    print(\"Digite o segundo número da operação: \")\n",
        "    num2 = float(input())\n",
        "\n",
        "    if operacao == 1:\n",
        "        resultado = num1 + num2\n",
        "    elif operacao == 2:\n",
        "        resultado = num1 - num2\n",
        "    elif operacao == 3:\n",
        "        resultado = num1 * num2\n",
        "    elif operacao == 4:\n",
        "        if num2 != 0:\n",
        "            resultado = num1 / num2\n",
        "        else:\n",
        "            print(\"Erro: divisão por zero.\")\n",
        "            return\n",
        "    else:\n",
        "        print(\"Operação inválida.\")\n",
        "        return\n",
        "\n",
        "    print(\"O resultado da operação é: \", resultado)\n",
        "\n",
        "calculadora()\n"
      ]
    },
    {
      "cell_type": "code",
      "source": [],
      "metadata": {
        "id": "agxzANfb72FM"
      },
      "execution_count": null,
      "outputs": []
    }
  ]
}