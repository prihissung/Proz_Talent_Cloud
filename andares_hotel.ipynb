{
  "nbformat": 4,
  "nbformat_minor": 0,
  "metadata": {
    "colab": {
      "provenance": [],
      "authorship_tag": "ABX9TyMZNL33gtwrNSezMU56dEHu",
      "include_colab_link": true
    },
    "kernelspec": {
      "name": "python3",
      "display_name": "Python 3"
    },
    "language_info": {
      "name": "python"
    }
  },
  "cells": [
    {
      "cell_type": "markdown",
      "metadata": {
        "id": "view-in-github",
        "colab_type": "text"
      },
      "source": [
        "<a href=\"https://colab.research.google.com/github/prihissung/Proz_Talent_Cloud/blob/main/andares_hotel.ipynb\" target=\"_parent\"><img src=\"https://colab.research.google.com/assets/colab-badge.svg\" alt=\"Open In Colab\"/></a>"
      ]
    },
    {
      "cell_type": "code",
      "source": [
        "def andares_hotel():\n",
        "  for a in range (1, 21, 1):\n",
        "    if a == 13:\n",
        "      continue\n",
        "    print(\"Andar: \",a, \"º\")\n",
        "\n",
        "andares_hotel()"
      ],
      "metadata": {
        "colab": {
          "base_uri": "https://localhost:8080/"
        },
        "id": "GEibwdFGozUH",
        "outputId": "1edda698-b3e4-4e26-9b50-ea6462a2997a"
      },
      "execution_count": 13,
      "outputs": [
        {
          "output_type": "stream",
          "name": "stdout",
          "text": [
            "Andar:  1 º\n",
            "Andar:  2 º\n",
            "Andar:  3 º\n",
            "Andar:  4 º\n",
            "Andar:  5 º\n",
            "Andar:  6 º\n",
            "Andar:  7 º\n",
            "Andar:  8 º\n",
            "Andar:  9 º\n",
            "Andar:  10 º\n",
            "Andar:  11 º\n",
            "Andar:  12 º\n",
            "Andar:  14 º\n",
            "Andar:  15 º\n",
            "Andar:  16 º\n",
            "Andar:  17 º\n",
            "Andar:  18 º\n",
            "Andar:  19 º\n",
            "Andar:  20 º\n"
          ]
        }
      ]
    },
    {
      "cell_type": "code",
      "source": [
        "def andares_hotel():\n",
        "    for a in range(0, 20, 1):\n",
        "        print(\"Andar:\", a, \"º\")\n",
        "\n",
        "# Chamar a função para executar o código\n",
        "andares_hotel()\n"
      ],
      "metadata": {
        "colab": {
          "base_uri": "https://localhost:8080/"
        },
        "id": "iCL27TyYqQS6",
        "outputId": "f7bfa968-e61f-4c8f-e1cd-a596deb0e889"
      },
      "execution_count": 8,
      "outputs": [
        {
          "output_type": "stream",
          "name": "stdout",
          "text": [
            "Andar: 0 º\n",
            "Andar: 1 º\n",
            "Andar: 2 º\n",
            "Andar: 3 º\n",
            "Andar: 4 º\n",
            "Andar: 5 º\n",
            "Andar: 6 º\n",
            "Andar: 7 º\n",
            "Andar: 8 º\n",
            "Andar: 9 º\n",
            "Andar: 10 º\n",
            "Andar: 11 º\n",
            "Andar: 12 º\n",
            "Andar: 13 º\n",
            "Andar: 14 º\n",
            "Andar: 15 º\n",
            "Andar: 16 º\n",
            "Andar: 17 º\n",
            "Andar: 18 º\n",
            "Andar: 19 º\n"
          ]
        }
      ]
    },
    {
      "cell_type": "code",
      "execution_count": 1,
      "metadata": {
        "colab": {
          "base_uri": "https://localhost:8080/"
        },
        "id": "xl-G8wdenPgZ",
        "outputId": "127d7091-3ef2-4f3d-b7ed-c456946176b5"
      },
      "outputs": [
        {
          "output_type": "stream",
          "name": "stdout",
          "text": [
            "Digite o seu nome: Priscilla\n",
            "Digite o seu endereço: Rua one, 1\n",
            "Digite a sua cidade: Sao Paulo\n",
            "Digite o seu CPF: 123456789\n",
            "Digite o seu RG: 234543\n",
            "\n",
            "Dados Pessoais Informados:\n",
            "Nome: Priscilla\n",
            "Endereço: Rua one, 1\n",
            "Cidade: Sao Paulo\n",
            "CPF: 123456789\n",
            "RG: 234543\n"
          ]
        }
      ],
      "source": [
        "def coletar_dados_pessoais():\n",
        "\n",
        "    nome = input(\"Digite o seu nome: \")\n",
        "    endereco = input(\"Digite o seu endereço: \")\n",
        "    cidade = input(\"Digite a sua cidade: \")\n",
        "    cpf = input(\"Digite o seu CPF: \")\n",
        "    rg = input(\"Digite o seu RG: \")\n",
        "\n",
        "\n",
        "    print(\"\\nDados Pessoais Informados:\")\n",
        "    print(\"Nome:\", nome)\n",
        "    print(\"Endereço:\", endereco)\n",
        "    print(\"Cidade:\", cidade)\n",
        "    print(\"CPF:\", cpf)\n",
        "    print(\"RG:\", rg)\n",
        "\n",
        "\n",
        "coletar_dados_pessoais()\n"
      ]
    },
    {
      "cell_type": "code",
      "source": [],
      "metadata": {
        "id": "zKxT_ZzRpP8Z"
      },
      "execution_count": null,
      "outputs": []
    }
  ]
}