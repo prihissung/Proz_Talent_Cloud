{
  "nbformat": 4,
  "nbformat_minor": 0,
  "metadata": {
    "colab": {
      "provenance": [],
      "authorship_tag": "ABX9TyOih4G+B41rN/DBehPXP6Jw",
      "include_colab_link": true
    },
    "kernelspec": {
      "name": "python3",
      "display_name": "Python 3"
    },
    "language_info": {
      "name": "python"
    }
  },
  "cells": [
    {
      "cell_type": "markdown",
      "metadata": {
        "id": "view-in-github",
        "colab_type": "text"
      },
      "source": [
        "<a href=\"https://colab.research.google.com/github/prihissung/Proz_Talent_Cloud/blob/main/aula_05.ipynb\" target=\"_parent\"><img src=\"https://colab.research.google.com/assets/colab-badge.svg\" alt=\"Open In Colab\"/></a>"
      ]
    },
    {
      "cell_type": "code",
      "execution_count": 9,
      "metadata": {
        "colab": {
          "base_uri": "https://localhost:8080/"
        },
        "id": "FmQzi0fyh9uV",
        "outputId": "3f6387de-46c2-4a01-a7d7-d00810bc6b68"
      },
      "outputs": [
        {
          "output_type": "stream",
          "name": "stdout",
          "text": [
            "Robô, por favor regue a planta de número 1\n",
            "Robô, por favor regue a planta de número 2\n",
            "Robô, por favor regue a planta de número 3\n",
            "Robô, por favor regue a planta de número 4\n",
            "Robô, por favor regue a planta de número 5\n",
            "Robô, por favor regue a planta de número 6\n"
          ]
        }
      ],
      "source": [
        "count = 1\n",
        "while count<=6:\n",
        "        print(\"Robô, por favor regue a planta de número \" + str(count))\n",
        "        count = count + 1\n",
        "\n"
      ]
    },
    {
      "cell_type": "markdown",
      "source": [
        "Exercício 2 - Regar somente os pares"
      ],
      "metadata": {
        "id": "7jPffaDmmXwy"
      }
    },
    {
      "cell_type": "code",
      "source": [
        "count = 0\n",
        "while count < 6:\n",
        "    if count % 2 == 0:\n",
        "        print(\"Robô, por favor regue a planta de número \" + str(count))\n",
        "    count += 1"
      ],
      "metadata": {
        "colab": {
          "base_uri": "https://localhost:8080/"
        },
        "id": "V3Nrv0qNiTOu",
        "outputId": "4c9d0bfd-f360-44ab-9038-e1138490f8c2"
      },
      "execution_count": 13,
      "outputs": [
        {
          "output_type": "stream",
          "name": "stdout",
          "text": [
            "Robô, por favor regue a planta de número 0\n",
            "Robô, por favor regue a planta de número 2\n",
            "Robô, por favor regue a planta de número 4\n"
          ]
        }
      ]
    },
    {
      "cell_type": "code",
      "source": [
        "Exercício 2 - Ivanildo"
      ],
      "metadata": {
        "id": "F9ckAA8aoafz"
      },
      "execution_count": null,
      "outputs": []
    },
    {
      "cell_type": "markdown",
      "source": [
        "Exercício 2 - do Ivanildo"
      ],
      "metadata": {
        "id": "YcrVnJrpnoPf"
      }
    },
    {
      "cell_type": "code",
      "source": [
        "count = 0\n",
        "while count < 6:\n",
        "    if count % 2 == 0:\n",
        "        print(\"Robô, por favor regue a planta de número \" + str(count))\n",
        "    count += 1"
      ],
      "metadata": {
        "colab": {
          "base_uri": "https://localhost:8080/"
        },
        "id": "b-3mfttbnueM",
        "outputId": "e2490591-ad84-47a3-96c6-c1cfd8354a63"
      },
      "execution_count": 14,
      "outputs": [
        {
          "output_type": "stream",
          "name": "stdout",
          "text": [
            "Robô, por favor regue a planta de número 0\n",
            "Robô, por favor regue a planta de número 2\n",
            "Robô, por favor regue a planta de número 4\n"
          ]
        }
      ]
    },
    {
      "cell_type": "markdown",
      "source": [
        "Exercício 3 - Funções"
      ],
      "metadata": {
        "id": "A-1HXoM1uFMY"
      }
    },
    {
      "cell_type": "code",
      "source": [
        "#Como declarar uma função\n",
        "\n",
        "def multiplicar(multiplicador, multiplicando):\n",
        "  return multiplicador * multiplicando\n",
        "\n",
        "#Como invocar uma função\n",
        "produto = multiplicar(45, 3)\n",
        "print(produto)"
      ],
      "metadata": {
        "colab": {
          "base_uri": "https://localhost:8080/"
        },
        "id": "NPYsFOLBuNAS",
        "outputId": "2ae749f6-ed50-4741-a64c-4a734bcfe85f"
      },
      "execution_count": 15,
      "outputs": [
        {
          "output_type": "stream",
          "name": "stdout",
          "text": [
            "135\n"
          ]
        }
      ]
    },
    {
      "cell_type": "markdown",
      "source": [
        "Exercício 4 - Multiplicação"
      ],
      "metadata": {
        "id": "holbizRdwGVS"
      }
    },
    {
      "cell_type": "code",
      "source": [
        "def escrever_multiplicacao(multiplicador, multiplicando):\n",
        "  resultado = multiplicador * multiplicando\n",
        "  mensagem = str(multiplicador) + \" vezes \" + str(multiplicando) + \" =é igual a \" + str(resultado)\n",
        "  return mensagem\n",
        "print(escrever_multiplicacao(3,5))\n",
        "\n",
        "\n",
        "#Como invocar uma função\n",
        "#produto = multiplicar(45, 3)\n"
      ],
      "metadata": {
        "colab": {
          "base_uri": "https://localhost:8080/"
        },
        "id": "m2rv6vpgwKDE",
        "outputId": "d8a2d62a-5bed-4a2d-ff3c-841e22c09baa"
      },
      "execution_count": 21,
      "outputs": [
        {
          "output_type": "stream",
          "name": "stdout",
          "text": [
            "3 vezes 5 =é igual a 15\n"
          ]
        }
      ]
    },
    {
      "cell_type": "markdown",
      "source": [
        "Exercício 3 - Tabuada do 9"
      ],
      "metadata": {
        "id": "ZBYO5bzzynCn"
      }
    },
    {
      "cell_type": "code",
      "source": [
        "def escrever_multiplicacao(multiplicador, multiplicando):\n",
        "  resultado = multiplicador * multiplicando\n",
        "  mensagem = str(multiplicador) + \" vezes \" + str(multiplicando) + \" é igual a \" + str(resultado)\n",
        "  print(mensagem)\n",
        "for i in range(11):\n",
        "  escrever_multiplicacao(9, i)"
      ],
      "metadata": {
        "colab": {
          "base_uri": "https://localhost:8080/"
        },
        "id": "4yXVmxfDyuhT",
        "outputId": "ce9494b6-71be-4b0b-d3a6-b833ab0e7cce"
      },
      "execution_count": 28,
      "outputs": [
        {
          "output_type": "stream",
          "name": "stdout",
          "text": [
            "9 vezes 0 é igual a 0\n",
            "9 vezes 1 é igual a 9\n",
            "9 vezes 2 é igual a 18\n",
            "9 vezes 3 é igual a 27\n",
            "9 vezes 4 é igual a 36\n",
            "9 vezes 5 é igual a 45\n",
            "9 vezes 6 é igual a 54\n",
            "9 vezes 7 é igual a 63\n",
            "9 vezes 8 é igual a 72\n",
            "9 vezes 9 é igual a 81\n",
            "9 vezes 10 é igual a 90\n"
          ]
        }
      ]
    },
    {
      "cell_type": "markdown",
      "source": [
        "Tabuada com qualquer numero"
      ],
      "metadata": {
        "id": "Ak9V5gRJ1Rjf"
      }
    },
    {
      "cell_type": "code",
      "source": [
        "def escrever_multiplicacao(multiplicador, multiplicando):\n",
        "  return multiplicador * multiplicando\n",
        "\n",
        "def tabuada(numero):\n",
        "  for i in range(11):\n",
        "    resultado = escrever_multiplicacao(numero, i)\n",
        "    mensagem = str(numero) + \" vezes \" + str(i) + \" é igual a \" + str(resultado)\n",
        "    print(mensagem)\n",
        "\n",
        "# Chamada da função tabuada com o número desejado\n",
        "tabuada(9)\n",
        "print()\n",
        "tabuada(7)"
      ],
      "metadata": {
        "colab": {
          "base_uri": "https://localhost:8080/"
        },
        "id": "_lnYMtoU1VCf",
        "outputId": "3f969084-ee19-4ace-f1fd-122a8f539758"
      },
      "execution_count": 34,
      "outputs": [
        {
          "output_type": "stream",
          "name": "stdout",
          "text": [
            "9 vezes 0 é igual a 0\n",
            "9 vezes 1 é igual a 9\n",
            "9 vezes 2 é igual a 18\n",
            "9 vezes 3 é igual a 27\n",
            "9 vezes 4 é igual a 36\n",
            "9 vezes 5 é igual a 45\n",
            "9 vezes 6 é igual a 54\n",
            "9 vezes 7 é igual a 63\n",
            "9 vezes 8 é igual a 72\n",
            "9 vezes 9 é igual a 81\n",
            "9 vezes 10 é igual a 90\n",
            "\n",
            "7 vezes 0 é igual a 0\n",
            "7 vezes 1 é igual a 7\n",
            "7 vezes 2 é igual a 14\n",
            "7 vezes 3 é igual a 21\n",
            "7 vezes 4 é igual a 28\n",
            "7 vezes 5 é igual a 35\n",
            "7 vezes 6 é igual a 42\n",
            "7 vezes 7 é igual a 49\n",
            "7 vezes 8 é igual a 56\n",
            "7 vezes 9 é igual a 63\n",
            "7 vezes 10 é igual a 70\n"
          ]
        }
      ]
    }
  ]
}