{
  "nbformat": 4,
  "nbformat_minor": 0,
  "metadata": {
    "colab": {
      "provenance": [],
      "authorship_tag": "ABX9TyNAJk7dyV0wV0Q841Hio36E",
      "include_colab_link": true
    },
    "kernelspec": {
      "name": "python3",
      "display_name": "Python 3"
    },
    "language_info": {
      "name": "python"
    }
  },
  "cells": [
    {
      "cell_type": "markdown",
      "metadata": {
        "id": "view-in-github",
        "colab_type": "text"
      },
      "source": [
        "<a href=\"https://colab.research.google.com/github/prihissung/Proz_Talent_Cloud/blob/main/aula_06_tratamento_entradas.ipynb\" target=\"_parent\"><img src=\"https://colab.research.google.com/assets/colab-badge.svg\" alt=\"Open In Colab\"/></a>"
      ]
    },
    {
      "cell_type": "code",
      "execution_count": null,
      "metadata": {
        "id": "JWfXr6x3u0q0"
      },
      "outputs": [],
      "source": []
    },
    {
      "cell_type": "markdown",
      "source": [
        "Exercício 1 Escreva uma função que peça ao usuário um número entre 10 e 100 e faça a validação do valor recebido"
      ],
      "metadata": {
        "id": "AVsJPGbUu6Vi"
      }
    },
    {
      "cell_type": "code",
      "source": [
        "def validarEntrada():\n",
        "  try:\n",
        "    valor = input('Digite um número entre 10 e 100: ')\n",
        "    mensagem = valor + ' é uma excelente escolha!!!!! =)'\n",
        "    numero = float(valor)\n",
        "\n",
        "    if numero < 10 or numero > 100:\n",
        "      mensagem = 'ERRO: Valor precisa estar entre 10 e 100'\n",
        "    print(mensagem)\n",
        "  except:\n",
        "    print('ERRO: Valor informado não é númerico')\n",
        "\n",
        "#Teste envocar a FUNÇÃO\n",
        "validarEntrada()"
      ],
      "metadata": {
        "colab": {
          "base_uri": "https://localhost:8080/"
        },
        "id": "UsG2pCpOww0p",
        "outputId": "245fe125-844a-445e-eb46-9f45f44b744b"
      },
      "execution_count": 32,
      "outputs": [
        {
          "output_type": "stream",
          "name": "stdout",
          "text": [
            "Digite um número entre 10 e 100: 202\n",
            "ERRO: Valor precisa estar entre 10 e 100\n"
          ]
        }
      ]
    },
    {
      "cell_type": "code",
      "source": [
        "def num():\n",
        "   num = input('Digite um número: ')\n",
        "   num = int(num)\n",
        "   if num < 10 or num > 100:\n",
        "      print('O número é inválido')\n",
        "   else:\n",
        "      print(\"O número é válido\")\n",
        "num()\n"
      ],
      "metadata": {
        "colab": {
          "base_uri": "https://localhost:8080/"
        },
        "id": "eW6W2VtmzKR1",
        "outputId": "8f1f7c5e-6465-4d66-914c-e0aa2266e2d7"
      },
      "execution_count": 28,
      "outputs": [
        {
          "output_type": "stream",
          "name": "stdout",
          "text": [
            "Digite um número: 9\n",
            "O número é inválido\n"
          ]
        }
      ]
    },
    {
      "cell_type": "code",
      "source": [
        "#Aula 6 - Exercício de fixação 1 Priscilla e Rebekah\n",
        "def validar():\n",
        "  try:\n",
        "    valor = input('Digite um número entre 10 e 100, que também seja divisivel por 3: ')\n",
        "    mensagem = valor + ' é uma excelente escolha!!!!! =)'\n",
        "    numero = int(valor)\n",
        "\n",
        "    if numero < 10 or numero > 100 or numero % 3 != 0:\n",
        "      mensagem = 'ERRO: Valor precisa estar entre 10 e 100 e também ser divisivel por 3'\n",
        "    else:\n",
        "      mensagem = valor + ' é uma excelente escolha!!!!! =)'\n",
        "      verificar_par(numero)  # Chamar a função verificar_par aqui\n",
        "\n",
        "    print(mensagem)\n",
        "  except:\n",
        "    print('ERRO: Valor informado não é númerico')\n",
        "\n",
        "def verificar_par(numero):\n",
        "  if numero % 2 == 0:\n",
        "    print('O número é par')\n",
        "  else:\n",
        "    print('O número é ímpar')\n",
        "\n",
        "#Teste envocar a FUNÇÃO\n",
        "validar()"
      ],
      "metadata": {
        "colab": {
          "base_uri": "https://localhost:8080/"
        },
        "id": "nv3nTEI98t_2",
        "outputId": "cca70531-a4f8-46fb-a469-5da95a41531a"
      },
      "execution_count": 43,
      "outputs": [
        {
          "output_type": "stream",
          "name": "stdout",
          "text": [
            "Digite um número entre 10 e 100, que também seja divisivel por 3: 30\n",
            "O número é par\n",
            "30 é uma excelente escolha!!!!! =)\n"
          ]
        }
      ]
    },
    {
      "cell_type": "code",
      "source": [],
      "metadata": {
        "id": "gp87yyq-BMrc"
      },
      "execution_count": null,
      "outputs": []
    },
    {
      "cell_type": "markdown",
      "source": [
        "Exercicio\n"
      ],
      "metadata": {
        "id": "PQIrAfCRBPcN"
      }
    },
    {
      "cell_type": "code",
      "source": [
        "#Aula 6 - Exercício de fixação 1 Priscilla e Rebekah\n",
        "def validar():\n",
        "  try:\n",
        "    valor = input('Digite um número entre 10 e 100, que também seja divisivel por 3: ')\n",
        "    mensagem = valor + ' é uma excelente escolha!!!!! =)'\n",
        "    numero = int(valor)\n",
        "\n",
        "    if numero < 10 or numero > 100 or numero % 3 != 0 or not verificar_par(numero):\n",
        "       mensagem = 'ERRO: Valor precisa estar entre 10 e 100 e também ser divisivel por 3'\n",
        "       print(mensagem)\n",
        "  except:\n",
        "      print('ERRO: Valor informado não é númerico')\n",
        "\n",
        "def verificar_par(numero):\n",
        "  if numero % 2 == 0:\n",
        "    return True\n",
        "  else:\n",
        "    return False\n",
        "#Teste envocar a FUNÇÃO\n",
        "validar()"
      ],
      "metadata": {
        "colab": {
          "base_uri": "https://localhost:8080/"
        },
        "id": "mFWjiNfZBRb0",
        "outputId": "3f444c40-de99-4aa6-9d22-87233da868da"
      },
      "execution_count": 46,
      "outputs": [
        {
          "name": "stdout",
          "output_type": "stream",
          "text": [
            "Digite um número entre 10 e 100, que também seja divisivel por 3: 30\n"
          ]
        }
      ]
    },
    {
      "cell_type": "code",
      "source": [
        "\n",
        "def validar():\n",
        "    try:\n",
        "        valor = input('Digite um número entre 10 e 100, que também seja divisível por 3 e par: ')\n",
        "        numero = int(valor)\n",
        "\n",
        "        if numero < 10 or numero > 100 or numero % 3 != 0 or not verificar_par(numero):\n",
        "            print('ERRO: Valor precisa estar entre 10 e 100, ser divisível por 3 e par')\n",
        "        else:\n",
        "            print(f'{valor} é uma excelente escolha!!!!! =)')\n",
        "\n",
        "    except ValueError:\n",
        "\n",
        "        print('ERRO: Valor informado não é numérico')\n",
        "\n",
        "def verificar_par(numero):\n",
        "\n",
        "    if numero % 2 == 0:\n",
        "        return True\n",
        "    else:\n",
        "        return False\n",
        "\n",
        "# Teste para invocar a FUNÇÃO\n",
        "validar()\n"
      ],
      "metadata": {
        "colab": {
          "base_uri": "https://localhost:8080/"
        },
        "id": "Ob9uKU0WCvl9",
        "outputId": "7f3d6044-a060-4ccc-c38c-8ba53e017dbe"
      },
      "execution_count": 1,
      "outputs": [
        {
          "output_type": "stream",
          "name": "stdout",
          "text": [
            "Digite um número entre 10 e 100, que também seja divisível por 3 e par: 12\n",
            "12 é uma excelente escolha!!!!! =)\n"
          ]
        }
      ]
    }
  ]
}