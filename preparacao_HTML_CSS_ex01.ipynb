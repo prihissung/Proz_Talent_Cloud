{
  "nbformat": 4,
  "nbformat_minor": 0,
  "metadata": {
    "colab": {
      "provenance": [],
      "authorship_tag": "ABX9TyM13RYwEnG5gSsZgD4kVszd",
      "include_colab_link": true
    },
    "kernelspec": {
      "name": "python3",
      "display_name": "Python 3"
    },
    "language_info": {
      "name": "python"
    }
  },
  "cells": [
    {
      "cell_type": "markdown",
      "metadata": {
        "id": "view-in-github",
        "colab_type": "text"
      },
      "source": [
        "<a href=\"https://colab.research.google.com/github/prihissung/Proz_Talent_Cloud/blob/main/preparacao_HTML_CSS_ex01.ipynb\" target=\"_parent\"><img src=\"https://colab.research.google.com/assets/colab-badge.svg\" alt=\"Open In Colab\"/></a>"
      ]
    },
    {
      "cell_type": "code",
      "execution_count": 1,
      "metadata": {
        "colab": {
          "base_uri": "https://localhost:8080/"
        },
        "id": "tUbqomcA6wzA",
        "outputId": "5e142fed-4a06-4b27-d10d-9f0c7c3af0d0"
      },
      "outputs": [
        {
          "output_type": "stream",
          "name": "stdout",
          "text": [
            "Produtos da loja de material de construção:\n",
            "['Cimento Portland', 'Telha Cerâmica', 'Tijolo Vermelho', 'Ladrilho Cerâmico', 'Prego de Aço']\n",
            "\n",
            "Anos de nascimento de familiares e amigos:\n",
            "[1965, 1970, 1995, 2000, 1987]\n"
          ]
        }
      ],
      "source": [
        "# Array de produtos de uma loja de material de construção\n",
        "material_construcao_produtos = [\n",
        "    \"Cimento Portland\",\n",
        "    \"Telha Cerâmica\",\n",
        "    \"Tijolo Vermelho\",\n",
        "    \"Ladrilho Cerâmico\",\n",
        "    \"Prego de Aço\"\n",
        "]\n",
        "\n",
        "# Array de anos de nascimento de familiares e amigos\n",
        "anos_nascimento_familiares_amigos = [\n",
        "    1965,\n",
        "    1970,\n",
        "    1995,\n",
        "    2000,\n",
        "    1987,\n",
        "]\n",
        "\n",
        "# Imprimir os arrays usando print()\n",
        "print(\"Produtos da loja de material de construção:\")\n",
        "print(material_construcao_produtos)\n",
        "print(\"\\nAnos de nascimento de familiares e amigos:\")\n",
        "print(anos_nascimento_familiares_amigos)"
      ]
    },
    {
      "cell_type": "code",
      "source": [
        "lista_musicos = [ 'Djavan', 'Roberto Carlos', 'Elis Regina', 'Tom Jobim', 'Milton Nascimento',\n",
        "                 'Chico Buarque', 'Nara Leão', 'Pitty', 'Simonal', 'Moacir Santos', 'Caetano Veloso', 'Elza Soares',\n",
        "                  'Paulinho da Viola', 'Yamandú Costa', 'Gal Costa']\n",
        "musico = lista_musicos[8]\n",
        "\n",
        "print(lista_musicos)\n",
        "print(musico)"
      ],
      "metadata": {
        "colab": {
          "base_uri": "https://localhost:8080/"
        },
        "id": "OYfimvda8NCu",
        "outputId": "94720e8c-bc9b-4cd1-cf87-ad3b619f8162"
      },
      "execution_count": 5,
      "outputs": [
        {
          "output_type": "stream",
          "name": "stdout",
          "text": [
            "['Djavan', 'Roberto Carlos', 'Elis Regina', 'Tom Jobim', 'Milton Nascimento', 'Chico Buarque', 'Nara Leão', 'Pitty', 'Simonal', 'Moacir Santos', 'Caetano Veloso', 'Elza Soares', 'Paulinho da Viola', 'Yamandú Costa', 'Gal Costa']\n",
            "Simonal\n"
          ]
        }
      ]
    },
    {
      "cell_type": "code",
      "source": [
        "lista_frutas = ['maçã', 'banana', 'pera']\n",
        "\n",
        "for i in range(3):\n",
        "    print(lista_frutas[i])\n",
        "\n",
        "# Imprimirá:\n",
        "# maçã\n",
        "# banana\n",
        "# pera"
      ],
      "metadata": {
        "colab": {
          "base_uri": "https://localhost:8080/"
        },
        "id": "tuDpz80m9tNY",
        "outputId": "8f8dc194-e176-4f94-f061-fae254f5f62c"
      },
      "execution_count": 11,
      "outputs": [
        {
          "output_type": "stream",
          "name": "stdout",
          "text": [
            "maçã\n",
            "banana\n",
            "pera\n"
          ]
        }
      ]
    },
    {
      "cell_type": "code",
      "source": [
        "lista_num = [2, 45, 65, 78, 126, 987, 457, 345, 679, 107, 2345, 452, 3, 34, 560]\n",
        "\n",
        "for i in range(15):\n",
        "  print(lista_num[i])"
      ],
      "metadata": {
        "colab": {
          "base_uri": "https://localhost:8080/"
        },
        "id": "JSU2jxK4-L4t",
        "outputId": "7bf72349-1e7b-4547-f063-420da771e8dc"
      },
      "execution_count": 12,
      "outputs": [
        {
          "output_type": "stream",
          "name": "stdout",
          "text": [
            "2\n",
            "45\n",
            "65\n",
            "78\n",
            "126\n",
            "987\n",
            "457\n",
            "345\n",
            "679\n",
            "107\n",
            "2345\n",
            "452\n",
            "3\n",
            "34\n",
            "560\n"
          ]
        }
      ]
    },
    {
      "cell_type": "code",
      "source": [
        "lista_num = [2, 45, 65, 78, 126, 987, 457, 345, 679, 107, 2345, 452, 3, 34, 560]\n",
        "\n",
        "for i in range(len(lista_num)):\n",
        "  print(lista_num[i])"
      ],
      "metadata": {
        "colab": {
          "base_uri": "https://localhost:8080/"
        },
        "id": "8jMaB-uv-o1j",
        "outputId": "64104d0a-e367-45a3-cd1c-52836af1d972"
      },
      "execution_count": 13,
      "outputs": [
        {
          "output_type": "stream",
          "name": "stdout",
          "text": [
            "2\n",
            "45\n",
            "65\n",
            "78\n",
            "126\n",
            "987\n",
            "457\n",
            "345\n",
            "679\n",
            "107\n",
            "2345\n",
            "452\n",
            "3\n",
            "34\n",
            "560\n"
          ]
        }
      ]
    },
    {
      "cell_type": "code",
      "source": [
        "lista_produtos = ['máscaras faciais', 'batons', 'esmaltes', 'perfumes', 'loções', 'xampus', 'sabonetes', 'delineadores']\n",
        "\n",
        "for i in range(len(lista_produtos)):\n",
        "  print(\"Temos \" + lista_produtos[i] + \" à venda!\")"
      ],
      "metadata": {
        "colab": {
          "base_uri": "https://localhost:8080/"
        },
        "id": "nNicHyMK_yWL",
        "outputId": "682f8986-84a9-484f-f9e3-d0727bb2ea08"
      },
      "execution_count": 14,
      "outputs": [
        {
          "output_type": "stream",
          "name": "stdout",
          "text": [
            "Temos máscaras faciais à venda!\n",
            "Temos batons à venda!\n",
            "Temos esmaltes à venda!\n",
            "Temos perfumes à venda!\n",
            "Temos loções à venda!\n",
            "Temos xampus à venda!\n",
            "Temos sabonetes à venda!\n",
            "Temos delineadores à venda!\n"
          ]
        }
      ]
    },
    {
      "cell_type": "code",
      "source": [
        "#a função append() adiciona o elemento passado como argumento no final do nosso vetor.\n",
        "lista_frutas = ['melancia', 'morango', 'abacaxi']\n",
        "print(lista_frutas)\n",
        "# Imprimirá: ['melancia', 'morango', 'abacaxi']\n",
        "\n",
        "lista_frutas.append('kiwi')\n",
        "print(lista_frutas)\n",
        "# Imprimirá: ['melancia', 'morango', 'abacaxi', 'kiwi']"
      ],
      "metadata": {
        "colab": {
          "base_uri": "https://localhost:8080/"
        },
        "id": "J8Ngfp4TATYo",
        "outputId": "84629efe-323d-4f57-a2b8-7b16cf3aba87"
      },
      "execution_count": 18,
      "outputs": [
        {
          "output_type": "stream",
          "name": "stdout",
          "text": [
            "['melancia', 'morango', 'abacaxi']\n",
            "['melancia', 'morango', 'abacaxi', 'kiwi']\n"
          ]
        }
      ]
    },
    {
      "cell_type": "code",
      "source": [
        "lista_produtos = ['máscaras faciais', 'batons', 'esmaltes', 'perfumes', 'loções', 'xampus', 'sabonetes', 'delineadores']\n",
        "\n",
        "# Substituir batons por rímel\n",
        "indice_batons = lista_produtos.index('batons')\n",
        "lista_produtos[indice_batons] = 'rímel'\n",
        "\n",
        "# Substituir loções por cremes hidratantes\n",
        "indice_locoes = lista_produtos.index('loções')\n",
        "lista_produtos[indice_locoes] = 'cremes hidratantes'\n",
        "\n",
        "# Remover delineadores\n",
        "lista_produtos.pop(lista_produtos.index('delineadores'))\n",
        "\n",
        "# Inserir dois novos produtos\n",
        "lista_produtos.append('demaquilante')\n",
        "lista_produtos.append('removedor de esmaltes')\n",
        "\n",
        "print(\"Nova lista de produtos:\")\n",
        "print(lista_produtos)"
      ],
      "metadata": {
        "id": "nA1UvVXcCXmI"
      },
      "execution_count": null,
      "outputs": []
    },
    {
      "cell_type": "markdown",
      "source": [],
      "metadata": {
        "id": "70x0J8WvAp0T"
      }
    },
    {
      "cell_type": "code",
      "source": [
        "#função POP() remove o último item do array\n",
        "lista_frutas = ['melancia', 'morango', 'abacaxi', 'kiwi']\n",
        "print(lista_frutas)\n",
        "# Imprimirá: ['melancia', 'morango', 'abacaxi', 'kiwi']\n",
        "\n",
        "lista_frutas.pop()\n",
        "print(lista_frutas)\n",
        "# Imprimirá: ['melancia', 'morango', 'abacaxi']"
      ],
      "metadata": {
        "colab": {
          "base_uri": "https://localhost:8080/"
        },
        "id": "4PzwOVohAhNW",
        "outputId": "55d2ac77-a02d-428f-d9db-ecdf1b84d40f"
      },
      "execution_count": 16,
      "outputs": [
        {
          "output_type": "stream",
          "name": "stdout",
          "text": [
            "['melancia', 'morango', 'abacaxi', 'kiwi']\n",
            "['melancia', 'morango', 'abacaxi']\n"
          ]
        }
      ]
    }
  ]
}