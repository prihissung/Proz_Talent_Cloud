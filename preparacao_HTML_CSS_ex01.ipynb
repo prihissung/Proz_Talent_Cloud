{
  "nbformat": 4,
  "nbformat_minor": 0,
  "metadata": {
    "colab": {
      "provenance": [],
      "authorship_tag": "ABX9TyO1FELsNSAqMMn/HZv4Dvgl",
      "include_colab_link": true
    },
    "kernelspec": {
      "name": "python3",
      "display_name": "Python 3"
    },
    "language_info": {
      "name": "python"
    }
  },
  "cells": [
    {
      "cell_type": "markdown",
      "metadata": {
        "id": "view-in-github",
        "colab_type": "text"
      },
      "source": [
        "<a href=\"https://colab.research.google.com/github/prihissung/Proz_Talent_Cloud/blob/main/preparacao_HTML_CSS_ex01.ipynb\" target=\"_parent\"><img src=\"https://colab.research.google.com/assets/colab-badge.svg\" alt=\"Open In Colab\"/></a>"
      ]
    },
    {
      "cell_type": "code",
      "execution_count": 1,
      "metadata": {
        "colab": {
          "base_uri": "https://localhost:8080/"
        },
        "id": "tUbqomcA6wzA",
        "outputId": "5e142fed-4a06-4b27-d10d-9f0c7c3af0d0"
      },
      "outputs": [
        {
          "output_type": "stream",
          "name": "stdout",
          "text": [
            "Produtos da loja de material de construção:\n",
            "['Cimento Portland', 'Telha Cerâmica', 'Tijolo Vermelho', 'Ladrilho Cerâmico', 'Prego de Aço']\n",
            "\n",
            "Anos de nascimento de familiares e amigos:\n",
            "[1965, 1970, 1995, 2000, 1987]\n"
          ]
        }
      ],
      "source": [
        "# Array de produtos de uma loja de material de construção\n",
        "material_construcao_produtos = [\n",
        "    \"Cimento Portland\",\n",
        "    \"Telha Cerâmica\",\n",
        "    \"Tijolo Vermelho\",\n",
        "    \"Ladrilho Cerâmico\",\n",
        "    \"Prego de Aço\"\n",
        "]\n",
        "\n",
        "# Array de anos de nascimento de familiares e amigos\n",
        "anos_nascimento_familiares_amigos = [\n",
        "    1965,\n",
        "    1970,\n",
        "    1995,\n",
        "    2000,\n",
        "    1987,\n",
        "]\n",
        "\n",
        "# Imprimir os arrays usando print()\n",
        "print(\"Produtos da loja de material de construção:\")\n",
        "print(material_construcao_produtos)\n",
        "print(\"\\nAnos de nascimento de familiares e amigos:\")\n",
        "print(anos_nascimento_familiares_amigos)"
      ]
    }
  ]
}